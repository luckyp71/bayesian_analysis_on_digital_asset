{
 "cells": [
  {
   "cell_type": "code",
   "execution_count": null,
   "id": "9a7fa646-d15b-40bc-aedf-543273bc6e4c",
   "metadata": {},
   "outputs": [],
   "source": [
    "import pymc as pm\n",
    "import arviz as az\n",
    "import pandas as pd\n",
    "import numpy as np\n",
    "import xarray as xr\n",
    "from sklearn.preprocessing import StandardScaler\n",
    "import matplotlib.pyplot as plt\n",
    "import seaborn as sns\n",
    "from sklearn.metrics import mean_squared_error\n",
    "import numpy as np"
   ]
  },
  {
   "cell_type": "markdown",
   "id": "2b2a25fc-88c7-4e2c-9ded-d14bbc0d7439",
   "metadata": {},
   "source": [
    "### User Defined Function"
   ]
  },
  {
   "cell_type": "code",
   "execution_count": null,
   "id": "0e08590c-af43-4bd8-9411-cc229d165f1f",
   "metadata": {},
   "outputs": [],
   "source": [
    "def measure_momentum(time_series, price_series, start_idx, max_ms=50):\n",
    "    start_time = time_series.iloc[start_idx]\n",
    "    start_price = price_series.iloc[start_idx]\n",
    "\n",
    "    # Direction of change (sign of future - current)\n",
    "    if start_idx + 1 >= len(price_series):\n",
    "        return 0, 0\n",
    "    direction = np.sign(price_series.iloc[start_idx + 1] - start_price)\n",
    "    if direction == 0:\n",
    "        return 0, 0  # no movement\n",
    "\n",
    "    for i in range(start_idx + 1, len(price_series)):\n",
    "        time_diff_ms = (time_series.iloc[i] - start_time).total_seconds() * 1000\n",
    "        if time_diff_ms > max_ms:\n",
    "            break\n",
    "        delta = price_series.iloc[i] - start_price\n",
    "        if np.sign(delta) != direction:\n",
    "            break\n",
    "    else:\n",
    "        i = start_idx  # if no forward progress\n",
    "\n",
    "    return time_diff_ms, delta"
   ]
  },
  {
   "cell_type": "code",
   "execution_count": null,
   "id": "1c1ccaa6-5504-4342-a531-3dd6942e0d85",
   "metadata": {},
   "outputs": [],
   "source": [
    "df = pd.read_csv('./data/df_final_merged.csv')"
   ]
  },
  {
   "cell_type": "code",
   "execution_count": null,
   "id": "70c42cfb-cad6-4b67-9aee-25b7656d2189",
   "metadata": {},
   "outputs": [],
   "source": [
    "df['time'] = pd.to_datetime(df['time'], format='mixed', errors='coerce')\n",
    "df = df.sort_values(\"time\")"
   ]
  },
  {
   "cell_type": "code",
   "execution_count": null,
   "id": "2b555715-5d70-4ef8-9611-af8c86c08431",
   "metadata": {},
   "outputs": [],
   "source": [
    "df.info()"
   ]
  },
  {
   "cell_type": "code",
   "execution_count": null,
   "id": "2574fb72-1373-47bf-a83f-13b1f3ab2f3d",
   "metadata": {},
   "outputs": [],
   "source": [
    "df.timedelta_ms"
   ]
  },
  {
   "cell_type": "markdown",
   "id": "1b45c93f-b9ed-41a7-9be3-6aee7bcae567",
   "metadata": {},
   "source": [
    "### Sudden Price Flag"
   ]
  },
  {
   "cell_type": "code",
   "execution_count": null,
   "id": "c34ed947-9ae3-4f3d-8f7c-144698fcbe4b",
   "metadata": {},
   "outputs": [],
   "source": [
    "df['spot_sudden_flag'] = (\n",
    "    (df['window_3_pct_change'] < -0.00587) |\n",
    "    (df['window_3_pct_change'] > -0.00308)\n",
    ").astype(int)\n",
    "\n",
    "df['perp_sudden_flag'] = (\n",
    "    (df['window_3_pct_change_perp'] < -0.001) |\n",
    "    (df['window_3_pct_change_perp'] > 0.247)\n",
    ").astype(int)"
   ]
  },
  {
   "cell_type": "markdown",
   "id": "f543f787-7e71-48fd-bac6-455bf65a4b87",
   "metadata": {},
   "source": [
    "### Predicting Perpetual Based on Spot Market"
   ]
  },
  {
   "cell_type": "code",
   "execution_count": null,
   "id": "9365fa84-a129-469c-92fd-682f578038be",
   "metadata": {},
   "outputs": [],
   "source": [
    "features = [\n",
    "    'spot_sudden_flag',\n",
    "    'timedelta_ms',\n",
    "    'mid_price_spot',\n",
    "    'price_dev',\n",
    "    'rolling_signed_volume_3ms',\n",
    "    'rolling_signed_volume_5ms',\n",
    "    'trade_direction'\n",
    "]\n",
    "target = 'window_5_pct_change_perp'\n",
    "\n",
    "# Drop rows with missing values\n",
    "df_model = df[features + [target]].dropna().reset_index(drop=True)\n",
    "\n",
    "# Scale features\n",
    "scaler = StandardScaler()\n",
    "X_data = scaler.fit_transform(df_model[features].values)\n",
    "y_data = df_model[target].values"
   ]
  },
  {
   "cell_type": "code",
   "execution_count": null,
   "id": "ddcabe57-461e-4261-99a7-367124648b1c",
   "metadata": {},
   "outputs": [],
   "source": [
    "with pm.Model() as model_5ms_t:\n",
    "    # priors\n",
    "    a = pm.Normal('a', mu=0, sigma=1)\n",
    "    beta = pm.Normal('beta', mu=0, sigma=1, shape=X_data.shape[1])\n",
    "    sigma = pm.HalfNormal('sigma', 1)\n",
    "\n",
    "    # v_ = pm.Exponential(\"v_\", 1/29) \n",
    "    # v = pm.Deterministic(\"v\", v_+1) # weakly informative prior\n",
    "\n",
    "    # linear model\n",
    "    u = pm.Deterministic('mu', a+pm.math.dot(X_data, beta))\n",
    "\n",
    "    # likelihood\n",
    "    # y_pred = pm.StudentT('y', mu=u, sigma=sigma, nu=v, observed=y_data)\n",
    "    y_pred = pm.Normal('y', mu=u, sigma=sigma, observed=y_data)\n",
    "\n",
    "    # inference\n",
    "    idata_5ms_t = pm.sample(idata_kwargs={'log_likelihood':True})\n",
    "    idata_5ms_t.extend(pm.sample_posterior_predictive(idata_5ms_t))"
   ]
  },
  {
   "cell_type": "code",
   "execution_count": null,
   "id": "73c3f538-6601-42b0-ab56-2bf952c37805",
   "metadata": {},
   "outputs": [],
   "source": [
    "az.summary(idata_5ms_t, var_names=[\"a\", \"beta\", \"sigma\"], hdi_prob=0.94)"
   ]
  },
  {
   "cell_type": "code",
   "execution_count": null,
   "id": "ee1fa0c1-a5b9-4300-bba8-4223d8c1e558",
   "metadata": {},
   "outputs": [],
   "source": [
    "y_pred_samples = idata_5ms_t.posterior_predictive[\"y\"].stack(sample=(\"chain\", \"draw\")).values\n",
    "y_pred_mean = y_pred_samples.mean(axis=1)\n",
    "\n",
    "rmse = np.sqrt(mean_squared_error(y_data, y_pred_mean))\n",
    "print(f\"RMSE: {rmse:.6f}\")"
   ]
  },
  {
   "cell_type": "code",
   "execution_count": null,
   "id": "badb92ee-a87d-4ae3-9ee8-18f1d137bb39",
   "metadata": {},
   "outputs": [],
   "source": [
    "plt.figure(figsize=(12, 6))\n",
    "plt.plot(y_data[:300], label=\"Actual\", alpha=0.7, color=\"C0\")\n",
    "plt.plot(y_pred_mean[:300], label=\"Predicted (mean)\", alpha=0.7, color=\"C1\")\n",
    "plt.fill_between(\n",
    "    range(300),\n",
    "    np.percentile(y_pred_samples[:300], 3, axis=1),\n",
    "    np.percentile(y_pred_samples[:300], 97, axis=1),\n",
    "    color=\"C1\",\n",
    "    alpha=0.3,\n",
    "    label=\"94% CI\"\n",
    ")\n",
    "plt.title(f\"Posterior Predictive vs Actual (First 300 samples) | RMSE: {rmse:.6f}\")\n",
    "plt.xlabel(\"Sample Index\")\n",
    "plt.ylabel(\"5ms % Change in Perpetual\")\n",
    "plt.legend()\n",
    "plt.grid(True)\n",
    "plt.tight_layout()\n",
    "plt.show()"
   ]
  },
  {
   "cell_type": "markdown",
   "id": "fc3a0d3a-1406-4e3f-af44-73c41e0bdf51",
   "metadata": {},
   "source": [
    "### Predicting Spot Based on Perpetual Market"
   ]
  },
  {
   "cell_type": "code",
   "execution_count": null,
   "id": "55917113-4fc6-41cf-bca1-200effc4dc34",
   "metadata": {},
   "outputs": [],
   "source": [
    "features = [\n",
    "    'perp_sudden_flag',\n",
    "    'timedelta_ms_perp',\n",
    "    'mid_price_perp',\n",
    "    'trade_direction_perp'\n",
    "]\n",
    "target = 'window_5_pct_change'\n",
    "\n",
    "# Drop rows with missing values\n",
    "df_model = df[features + [target]].dropna().reset_index(drop=True)\n",
    "\n",
    "# Scale features\n",
    "scaler = StandardScaler()\n",
    "X_data = scaler.fit_transform(df_model[features].values)\n",
    "y_data = df_model[target].values"
   ]
  },
  {
   "cell_type": "code",
   "execution_count": null,
   "id": "17721530-5258-4479-91cc-6d37d7f6bc41",
   "metadata": {},
   "outputs": [],
   "source": [
    "with pm.Model() as model_5ms_t:\n",
    "    # priors\n",
    "    a = pm.Normal('a', mu=0, sigma=1)\n",
    "    beta = pm.Normal('beta', mu=0, sigma=1, shape=X_data.shape[1])\n",
    "    sigma = pm.HalfNormal('sigma', 1)\n",
    "\n",
    "    # linear model\n",
    "    u = pm.Deterministic('mu', a+pm.math.dot(X_data, beta))\n",
    "\n",
    "    # likelihood\n",
    "    y_pred = pm.Normal('y', mu=u, sigma=sigma, observed=y_data)\n",
    "\n",
    "    # inference\n",
    "    idata_5ms_t = pm.sample(idata_kwargs={'log_likelihood':True})\n",
    "    idata_5ms_t.extend(pm.sample_posterior_predictive(idata_5ms_t))"
   ]
  },
  {
   "cell_type": "code",
   "execution_count": null,
   "id": "cd44da2b-43f6-453d-9baa-14e58ccf1914",
   "metadata": {},
   "outputs": [],
   "source": [
    "y_pred_samples = idata_5ms_t.posterior_predictive[\"y\"].stack(sample=(\"chain\", \"draw\")).values\n",
    "y_pred_mean = y_pred_samples.mean(axis=1)\n",
    "\n",
    "rmse = np.sqrt(mean_squared_error(y_data, y_pred_mean))\n",
    "print(f\"RMSE: {rmse:.6f}\")"
   ]
  },
  {
   "cell_type": "code",
   "execution_count": null,
   "id": "37bb93d4-010c-4b53-a31e-9be21f43173b",
   "metadata": {},
   "outputs": [],
   "source": [
    "plt.figure(figsize=(12, 6))\n",
    "plt.plot(y_data[:300], label=\"Actual\", alpha=0.7, color=\"C0\")\n",
    "plt.plot(y_pred_mean[:300], label=\"Predicted (mean)\", alpha=0.7, color=\"C1\")\n",
    "plt.fill_between(\n",
    "    range(300),\n",
    "    np.percentile(y_pred_samples[:300], 3, axis=1),\n",
    "    np.percentile(y_pred_samples[:300], 97, axis=1),\n",
    "    color=\"C1\",\n",
    "    alpha=0.3,\n",
    "    label=\"94% CI\"\n",
    ")\n",
    "plt.title(f\"Posterior Predictive vs Actual (First 300 samples) | RMSE: {rmse:.6f}\")\n",
    "plt.xlabel(\"Sample Index\")\n",
    "plt.ylabel(\"5ms % Change in Perpetual\")\n",
    "plt.legend()\n",
    "plt.grid(True)\n",
    "plt.tight_layout()\n",
    "plt.show()"
   ]
  },
  {
   "cell_type": "code",
   "execution_count": null,
   "id": "3a0ab5db-631a-48de-ac12-0c452c201393",
   "metadata": {},
   "outputs": [],
   "source": [
    "# shift to detect reaction in next observation (i.e., within 1-row lag)\n",
    "perp_reacts = df['perp_sudden_flag'].shift(-1).fillna(0).astype(int)\n",
    "spot_reacts = df['spot_sudden_flag'].shift(-1).fillna(0).astype(int)\n",
    "\n",
    "# detect leads\n",
    "spot_leads = df['spot_sudden_flag'] & perp_reacts\n",
    "perp_leads = df['perp_sudden_flag'] & spot_reacts\n",
    "\n",
    "# prevent division by zero\n",
    "sudden_spot = df['spot_sudden_flag'].sum()\n",
    "sudden_perp = df['perp_sudden_flag'].sum()\n",
    "\n",
    "spot_lead_pct = spot_leads.sum() / sudden_spot if sudden_spot > 0 else 0\n",
    "perp_lead_pct = perp_leads.sum() / sudden_perp if sudden_perp > 0 else 0\n",
    "\n",
    "print(f\"Spot leads Perp in {spot_lead_pct:.2%} of sudden Spot changes.\")\n",
    "print(f\"Perp leads Spot in {perp_lead_pct:.2%} of sudden Perp changes.\")"
   ]
  },
  {
   "cell_type": "markdown",
   "id": "263348ca-a57c-4ca3-8bc4-99dd38258c9f",
   "metadata": {},
   "source": [
    "Based on sudden price changes and their short-term effects (i.e., the next price update within a 5ms window), the perpetual market more frequently leads price discovery compared to the spot market.<br/>\n",
    "Specifically:\n",
    "- Approximately 49.92% of sudden changes in the perpetual market are followed by changes in the spot market.\n",
    "- Only 30.58% of sudden spot changes are followed by perpetual market reactions."
   ]
  },
  {
   "cell_type": "code",
   "execution_count": null,
   "id": "6dbc3540-41a2-4bae-ab51-5f1279b89807",
   "metadata": {},
   "outputs": [],
   "source": [
    "# spot noise: sudden spot change not followed by perp\n",
    "spot_noise = (\n",
    "    (df['spot_sudden_flag'] == 1) &\n",
    "    (df['perp_sudden_flag'].shift(-1).fillna(0) == 0)\n",
    ")\n",
    "\n",
    "# perpetual noise: sudden perp change not followed by spot\n",
    "perp_noise = (\n",
    "    (df['perp_sudden_flag'] == 1) &\n",
    "    (df['spot_sudden_flag'].shift(-1).fillna(0) == 0)\n",
    ")\n",
    "\n",
    "# assign flags\n",
    "df['spot_noise_flag'] = spot_noise.astype(int)\n",
    "df['perp_noise_flag'] = perp_noise.astype(int)\n",
    "\n",
    "spot_noise_pct = 100 * df['spot_noise_flag'].sum() / df['spot_sudden_flag'].sum()\n",
    "perp_noise_pct = 100 * df['perp_noise_flag'].sum() / df['perp_sudden_flag'].sum()\n",
    "\n",
    "print(f\"Noise Rate (Spot): {spot_noise_pct:.2f}% of sudden spot moves do not affect perpetual\")\n",
    "print(f\"Noise Rate (Perp): {perp_noise_pct:.2f}% of sudden perpetual moves do not affect spot\")"
   ]
  },
  {
   "cell_type": "markdown",
   "id": "bc2cb23b-e7d1-4609-ab52-bea920992407",
   "metadata": {},
   "source": [
    "Based on short-term reactions (within a 5ms window), we observe a significant amount of noise—sudden price changes in one market that do not influence the other market:\n",
    "- 69.42% of sudden spot market moves do not affect the perpetual market.\n",
    "- 50.08% of sudden perpetual market moves do not affect the spot market.\n",
    "\n",
    "These results indicate that:\n",
    "- The spot market is more prone to isolated price movements that are likely noise.\n",
    "- The perpetual market shows more consistent influence on the spot market, with fewer noisy signals."
   ]
  },
  {
   "cell_type": "code",
   "execution_count": null,
   "id": "4bd95bb0-2d59-45e0-91d1-38ddb8145d59",
   "metadata": {},
   "outputs": [],
   "source": [
    "spot_durations, spot_deltas = [], []\n",
    "perp_durations, perp_deltas = [], []\n",
    "\n",
    "spot_indices = df[df['spot_sudden_flag'] == 1].index\n",
    "perp_indices = df[df['perp_sudden_flag'] == 1].index\n",
    "\n",
    "for idx in spot_indices:\n",
    "    dur, dlt = measure_momentum(df['time'], df['mid_price_spot'], idx)\n",
    "    spot_durations.append(dur)\n",
    "    spot_deltas.append(dlt)\n",
    "\n",
    "for idx in perp_indices:\n",
    "    dur, dlt = measure_momentum(df['time'], df['mid_price_perp'], idx)\n",
    "    perp_durations.append(dur)\n",
    "    perp_deltas.append(dlt)"
   ]
  },
  {
   "cell_type": "code",
   "execution_count": null,
   "id": "6f8126d3-dda5-4b8b-ac62-ebbb9809e666",
   "metadata": {},
   "outputs": [],
   "source": [
    "plt.figure(figsize=(12, 5))\n",
    "sns.kdeplot(spot_durations, label='Spot', fill=True)\n",
    "sns.kdeplot(perp_durations, label='Perpetual', fill=True)\n",
    "plt.title(\"Momentum Duration After Sudden Price Change\")\n",
    "plt.xlabel(\"Duration (ms)\")\n",
    "plt.ylabel(\"Density\")\n",
    "plt.legend()\n",
    "plt.grid(True)\n",
    "plt.tight_layout()\n",
    "plt.show()\n",
    "\n",
    "# Plot price delta\n",
    "plt.figure(figsize=(12, 5))\n",
    "sns.kdeplot(spot_deltas, label='Spot', fill=True)\n",
    "sns.kdeplot(perp_deltas, label='Perpetual', fill=True)\n",
    "plt.title(\"Price Delta After Sudden Price Change\")\n",
    "plt.xlabel(\"Delta\")\n",
    "plt.ylabel(\"Density\")\n",
    "plt.legend()\n",
    "plt.grid(True)\n",
    "plt.tight_layout()\n",
    "plt.show()"
   ]
  },
  {
   "cell_type": "markdown",
   "id": "143c27ea-8af4-401c-9271-36b6d32013ce",
   "metadata": {},
   "source": [
    "Based on momentum analysis after sudden price changes, the perpetual market tends to show slightly stronger and longer-lasting momentum than the spot market.\n",
    "The majority of price reactions in both markets are short-lived and small in magnitude, with most momentum fading within milliseconds."
   ]
  },
  {
   "cell_type": "code",
   "execution_count": null,
   "id": "935fbe9c-e847-4d76-9b7e-388c429eed0d",
   "metadata": {},
   "outputs": [],
   "source": []
  },
  {
   "cell_type": "code",
   "execution_count": null,
   "id": "d964cae1-b1c2-4f64-8061-f08e841064c6",
   "metadata": {},
   "outputs": [],
   "source": []
  }
 ],
 "metadata": {
  "kernelspec": {
   "display_name": "Python 3 (ipykernel)",
   "language": "python",
   "name": "python3"
  },
  "language_info": {
   "codemirror_mode": {
    "name": "ipython",
    "version": 3
   },
   "file_extension": ".py",
   "mimetype": "text/x-python",
   "name": "python",
   "nbconvert_exporter": "python",
   "pygments_lexer": "ipython3",
   "version": "3.11.0"
  }
 },
 "nbformat": 4,
 "nbformat_minor": 5
}
