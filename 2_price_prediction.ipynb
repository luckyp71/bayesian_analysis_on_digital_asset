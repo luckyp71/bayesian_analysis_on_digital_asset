{
 "cells": [
  {
   "cell_type": "code",
   "execution_count": null,
   "id": "9a7fa646-d15b-40bc-aedf-543273bc6e4c",
   "metadata": {},
   "outputs": [],
   "source": [
    "import pymc as pm\n",
    "import arviz as az\n",
    "import pandas as pd\n",
    "import numpy as np\n",
    "import xarray as xr\n",
    "from sklearn.preprocessing import StandardScaler\n",
    "import matplotlib.pyplot as plt\n",
    "import plotly.graph_objects as go\n",
    "from plotly.subplots import make_subplots\n",
    "import plotly.io as pio\n",
    "from IPython.display import Image, display\n",
    "from sklearn.metrics import mean_squared_error\n",
    "import numpy as np"
   ]
  },
  {
   "cell_type": "code",
   "execution_count": null,
   "id": "6368402f-8201-417a-a92d-1cef1202cf9b",
   "metadata": {},
   "outputs": [],
   "source": [
    "pio.renderers.default=\"notebook\""
   ]
  },
  {
   "cell_type": "code",
   "execution_count": null,
   "id": "1c1ccaa6-5504-4342-a531-3dd6942e0d85",
   "metadata": {},
   "outputs": [],
   "source": [
    "df = pd.read_csv('./data/df_final_merged.csv')"
   ]
  },
  {
   "cell_type": "code",
   "execution_count": null,
   "id": "70c42cfb-cad6-4b67-9aee-25b7656d2189",
   "metadata": {},
   "outputs": [],
   "source": [
    "df['time'] = pd.to_datetime(df['time'], format='mixed', errors='coerce')\n",
    "df = df.sort_values(\"time\")"
   ]
  },
  {
   "cell_type": "code",
   "execution_count": null,
   "id": "2b555715-5d70-4ef8-9611-af8c86c08431",
   "metadata": {},
   "outputs": [],
   "source": [
    "df.info()"
   ]
  },
  {
   "cell_type": "code",
   "execution_count": null,
   "id": "2574fb72-1373-47bf-a83f-13b1f3ab2f3d",
   "metadata": {},
   "outputs": [],
   "source": [
    "df.timedelta_ms"
   ]
  },
  {
   "cell_type": "markdown",
   "id": "1b45c93f-b9ed-41a7-9be3-6aee7bcae567",
   "metadata": {},
   "source": [
    "### Sudden Price Flag"
   ]
  },
  {
   "cell_type": "code",
   "execution_count": null,
   "id": "c34ed947-9ae3-4f3d-8f7c-144698fcbe4b",
   "metadata": {},
   "outputs": [],
   "source": [
    "df['spot_sudden_flag'] = (\n",
    "    (df['window_5_pct_change'] < -0.00587) |\n",
    "    (df['window_5_pct_change'] > -0.00308)\n",
    ").astype(int)\n",
    "\n",
    "df['perp_sudden_flag'] = (\n",
    "    (df['window_3_pct_change_perp'] < -0.001) |\n",
    "    (df['window_3_pct_change_perp'] > 0.247)\n",
    ").astype(int)"
   ]
  },
  {
   "cell_type": "markdown",
   "id": "f543f787-7e71-48fd-bac6-455bf65a4b87",
   "metadata": {},
   "source": [
    "### Predicting Perpetual Based on Spot Market"
   ]
  },
  {
   "cell_type": "code",
   "execution_count": null,
   "id": "9365fa84-a129-469c-92fd-682f578038be",
   "metadata": {},
   "outputs": [],
   "source": [
    "features = [\n",
    "    'spot_sudden_flag',\n",
    "    'timedelta_ms',\n",
    "    'mid_price_spot',\n",
    "    'price_dev',\n",
    "    'rolling_signed_volume_3ms',\n",
    "    'rolling_signed_volume_5ms',\n",
    "    'trade_direction'\n",
    "]\n",
    "target = 'window_3_pct_change_perp'\n",
    "\n",
    "# Drop rows with missing values\n",
    "df_model = df[features + [target]].dropna().reset_index(drop=True)\n",
    "\n",
    "# Scale features\n",
    "scaler = StandardScaler()\n",
    "X_data = scaler.fit_transform(df_model[features].values)\n",
    "y_data = df_model[target].values"
   ]
  },
  {
   "cell_type": "code",
   "execution_count": null,
   "id": "ddcabe57-461e-4261-99a7-367124648b1c",
   "metadata": {},
   "outputs": [],
   "source": [
    "with pm.Model() as model_5ms_t:\n",
    "    # priors\n",
    "    a = pm.Normal('a', mu=0, sigma=1)\n",
    "    beta = pm.Normal('beta', mu=0, sigma=1, shape=X_data.shape[1])\n",
    "    sigma = pm.HalfNormal('sigma', 1)\n",
    "\n",
    "    # v_ = pm.Exponential(\"v_\", 1/29) \n",
    "    # v = pm.Deterministic(\"v\", v_+1) # weakly informative prior\n",
    "\n",
    "    # linear model\n",
    "    u = pm.Deterministic('mu', a+pm.math.dot(X_data, beta))\n",
    "\n",
    "    # likelihood\n",
    "    # y_pred = pm.StudentT('y', mu=u, sigma=sigma, nu=v, observed=y_data)\n",
    "    y_pred = pm.Normal('y', mu=u, sigma=sigma, observed=y_data)\n",
    "\n",
    "    # inference\n",
    "    idata_5ms_t = pm.sample(idata_kwargs={'log_likelihood':True})\n",
    "    idata_5ms_t.extend(pm.sample_posterior_predictive(idata_5ms_t))"
   ]
  },
  {
   "cell_type": "code",
   "execution_count": null,
   "id": "73c3f538-6601-42b0-ab56-2bf952c37805",
   "metadata": {},
   "outputs": [],
   "source": [
    "az.summary(idata_5ms_t, var_names=[\"a\", \"beta\", \"sigma\"], hdi_prob=0.94)"
   ]
  },
  {
   "cell_type": "code",
   "execution_count": null,
   "id": "0f757b37-4a83-47ac-87cc-33984e9de174",
   "metadata": {},
   "outputs": [],
   "source": [
    "mu_mean = idata_5ms_t.posterior[\"mu\"].mean(dim=(\"mu_dim_0\"))  # shape: [chain, draw]\n",
    "idata_5ms_t.posterior['posterior_mean'] = mu_mean"
   ]
  },
  {
   "cell_type": "code",
   "execution_count": null,
   "id": "247dbbeb-825f-46ec-9de7-98bae451a7b8",
   "metadata": {},
   "outputs": [],
   "source": [
    "az.plot_forest(idata_5ms_t, var_names=['a', 'beta'], combined=True, figsize=(10,4))\n",
    "plt.plot()"
   ]
  },
  {
   "cell_type": "code",
   "execution_count": null,
   "id": "9c6e58c0-0a63-4be8-b328-a91e99191ffd",
   "metadata": {},
   "outputs": [],
   "source": [
    "spot_population_mean_5pct_change = np.mean(df['window_3_pct_change_perp']) * 100\n",
    "print(f\"Mean percentage change of spot population: {spot_population_mean_5pct_change:.8f}%\")"
   ]
  },
  {
   "cell_type": "code",
   "execution_count": null,
   "id": "a62bef23-1fe2-45eb-969e-63cef6d5522f",
   "metadata": {},
   "outputs": [],
   "source": [
    "az.plot_posterior(idata_5ms_t, var_names=['posterior_mean'], figsize=(10,6), ref_val=0.000956,hdi_prob=0.94)\n",
    "plt.plot()"
   ]
  },
  {
   "cell_type": "code",
   "execution_count": null,
   "id": "ee1fa0c1-a5b9-4300-bba8-4223d8c1e558",
   "metadata": {},
   "outputs": [],
   "source": [
    "y_pred_samples = idata_5ms_t.posterior_predictive[\"y\"].stack(sample=(\"chain\", \"draw\")).values\n",
    "y_pred_mean = y_pred_samples.mean(axis=1)\n",
    "\n",
    "rmse = np.sqrt(mean_squared_error(y_data, y_pred_mean))\n",
    "print(f\"RMSE: {rmse:.6f}\")"
   ]
  },
  {
   "cell_type": "code",
   "execution_count": null,
   "id": "badb92ee-a87d-4ae3-9ee8-18f1d137bb39",
   "metadata": {},
   "outputs": [],
   "source": [
    "plt.figure(figsize=(12, 6))\n",
    "plt.plot(y_data[:300], label=\"Actual\", alpha=0.7, color=\"C0\")\n",
    "plt.plot(y_pred_mean[:300], label=\"Predicted (mean)\", alpha=0.7, color=\"C1\")\n",
    "plt.fill_between(\n",
    "    range(300),\n",
    "    np.percentile(y_pred_samples[:300], 3, axis=1),\n",
    "    np.percentile(y_pred_samples[:300], 97, axis=1),\n",
    "    color=\"C1\",\n",
    "    alpha=0.3,\n",
    "    label=\"94% CI\"\n",
    ")\n",
    "plt.title(f\"Posterior Predictive vs Actual (First 300 samples) | RMSE: {rmse:.6f}\")\n",
    "plt.xlabel(\"Sample Index\")\n",
    "plt.ylabel(\"5ms % Change in Perpetual\")\n",
    "plt.legend()\n",
    "plt.grid(True)\n",
    "plt.tight_layout()\n",
    "plt.show()"
   ]
  },
  {
   "cell_type": "markdown",
   "id": "fc3a0d3a-1406-4e3f-af44-73c41e0bdf51",
   "metadata": {},
   "source": [
    "### Predicting Spot Based on Perpetual Market"
   ]
  },
  {
   "cell_type": "code",
   "execution_count": null,
   "id": "55917113-4fc6-41cf-bca1-200effc4dc34",
   "metadata": {},
   "outputs": [],
   "source": [
    "features = [\n",
    "    'perp_sudden_flag',\n",
    "    'timedelta_ms_perp',\n",
    "    'mid_price_perp',\n",
    "    'trade_direction_perp'\n",
    "]\n",
    "target = 'window_5_pct_change'\n",
    "\n",
    "# Drop rows with missing values\n",
    "df_model = df[features + [target]].dropna().reset_index(drop=True)\n",
    "\n",
    "# Scale features\n",
    "scaler = StandardScaler()\n",
    "X_data = scaler.fit_transform(df_model[features].values)\n",
    "y_data = df_model[target].values"
   ]
  },
  {
   "cell_type": "code",
   "execution_count": null,
   "id": "17721530-5258-4479-91cc-6d37d7f6bc41",
   "metadata": {},
   "outputs": [],
   "source": [
    "with pm.Model() as model_5ms_t:\n",
    "    # priors\n",
    "    a = pm.Normal('a', mu=0, sigma=1)\n",
    "    beta = pm.Normal('beta', mu=0, sigma=1, shape=X_data.shape[1])\n",
    "    sigma = pm.HalfNormal('sigma', 1)\n",
    "\n",
    "    # linear model\n",
    "    u = pm.Deterministic('mu', a+pm.math.dot(X_data, beta))\n",
    "\n",
    "    # likelihood\n",
    "    y_pred = pm.Normal('y', mu=u, sigma=sigma, observed=y_data)\n",
    "\n",
    "    # inference\n",
    "    idata_5ms_t = pm.sample(idata_kwargs={'log_likelihood':True})\n",
    "    idata_5ms_t.extend(pm.sample_posterior_predictive(idata_5ms_t))"
   ]
  },
  {
   "cell_type": "code",
   "execution_count": null,
   "id": "cd44da2b-43f6-453d-9baa-14e58ccf1914",
   "metadata": {},
   "outputs": [],
   "source": [
    "y_pred_samples = idata_5ms_t.posterior_predictive[\"y\"].stack(sample=(\"chain\", \"draw\")).values\n",
    "y_pred_mean = y_pred_samples.mean(axis=1)\n",
    "\n",
    "rmse = np.sqrt(mean_squared_error(y_data, y_pred_mean))\n",
    "print(f\"RMSE: {rmse:.6f}\")"
   ]
  },
  {
   "cell_type": "code",
   "execution_count": null,
   "id": "37bb93d4-010c-4b53-a31e-9be21f43173b",
   "metadata": {},
   "outputs": [],
   "source": [
    "plt.figure(figsize=(12, 6))\n",
    "plt.plot(y_data[:300], label=\"Actual\", alpha=0.7, color=\"C0\")\n",
    "plt.plot(y_pred_mean[:300], label=\"Predicted (mean)\", alpha=0.7, color=\"C1\")\n",
    "plt.fill_between(\n",
    "    range(300),\n",
    "    np.percentile(y_pred_samples[:300], 3, axis=1),\n",
    "    np.percentile(y_pred_samples[:300], 97, axis=1),\n",
    "    color=\"C1\",\n",
    "    alpha=0.3,\n",
    "    label=\"94% CI\"\n",
    ")\n",
    "plt.title(f\"Posterior Predictive vs Actual (First 300 samples) | RMSE: {rmse:.6f}\")\n",
    "plt.xlabel(\"Sample Index\")\n",
    "plt.ylabel(\"5ms % Change in Perpetual\")\n",
    "plt.legend()\n",
    "plt.grid(True)\n",
    "plt.tight_layout()\n",
    "plt.show()"
   ]
  },
  {
   "cell_type": "code",
   "execution_count": null,
   "id": "dedc3e29-947a-430b-82c3-50750ccd0246",
   "metadata": {},
   "outputs": [],
   "source": []
  },
  {
   "cell_type": "code",
   "execution_count": null,
   "id": "6dbc3540-41a2-4bae-ab51-5f1279b89807",
   "metadata": {},
   "outputs": [],
   "source": []
  },
  {
   "cell_type": "code",
   "execution_count": null,
   "id": "15446669-4f23-4366-8dff-e73d40cf3b3d",
   "metadata": {},
   "outputs": [],
   "source": []
  },
  {
   "cell_type": "code",
   "execution_count": null,
   "id": "d964cae1-b1c2-4f64-8061-f08e841064c6",
   "metadata": {},
   "outputs": [],
   "source": []
  }
 ],
 "metadata": {
  "kernelspec": {
   "display_name": "Python 3 (ipykernel)",
   "language": "python",
   "name": "python3"
  },
  "language_info": {
   "codemirror_mode": {
    "name": "ipython",
    "version": 3
   },
   "file_extension": ".py",
   "mimetype": "text/x-python",
   "name": "python",
   "nbconvert_exporter": "python",
   "pygments_lexer": "ipython3",
   "version": "3.11.0"
  }
 },
 "nbformat": 4,
 "nbformat_minor": 5
}
